{
  "nbformat": 4,
  "nbformat_minor": 0,
  "metadata": {
    "accelerator": "GPU",
    "colab": {
      "name": "BP_CNN.ipynb",
      "provenance": [],
      "collapsed_sections": [],
      "include_colab_link": true
    },
    "kernelspec": {
      "display_name": "Python 3",
      "name": "python3"
    }
  },
  "cells": [
    {
      "cell_type": "markdown",
      "metadata": {
        "id": "view-in-github",
        "colab_type": "text"
      },
      "source": [
        "<a href=\"https://colab.research.google.com/github/YunusKaratepe/duygu-tanima/blob/main/BP_CNN_ML_Full_ConfMatrix.ipynb\" target=\"_parent\"><img src=\"https://colab.research.google.com/assets/colab-badge.svg\" alt=\"Open In Colab\"/></a>"
      ]
    },
    {
      "cell_type": "markdown",
      "metadata": {
        "id": "i5cKf10uLv9_"
      },
      "source": [
        "# Importing Libraries"
      ]
    },
    {
      "cell_type": "code",
      "metadata": {
        "id": "u05jItQNLz-2"
      },
      "source": [
        "import keras\n",
        "import tensorflow as tf\n",
        "import numpy as np\n",
        "from keras.preprocessing.image import ImageDataGenerator\n",
        "from tensorflow.keras.preprocessing import image\n",
        "from keras.layers import Dense,GlobalAveragePooling2D\n",
        "from keras.models import Model\n",
        "from tensorflow.keras import activations"
      ],
      "execution_count": null,
      "outputs": []
    },
    {
      "cell_type": "markdown",
      "metadata": {
        "id": "Zztw-R73-265"
      },
      "source": [
        "# Load Data From Google Drive"
      ]
    },
    {
      "cell_type": "code",
      "metadata": {
        "id": "sPRiKxrv-8BZ",
        "colab": {
          "base_uri": "https://localhost:8080/"
        },
        "outputId": "bfcda44e-4c34-45e1-891a-5f18f5b0809a"
      },
      "source": [
        "from google.colab import drive\n",
        "drive.mount(\"/content/drive\")"
      ],
      "execution_count": null,
      "outputs": [
        {
          "output_type": "stream",
          "text": [
            "Drive already mounted at /content/drive; to attempt to forcibly remount, call drive.mount(\"/content/drive\", force_remount=True).\n"
          ],
          "name": "stdout"
        }
      ]
    },
    {
      "cell_type": "code",
      "metadata": {
        "id": "w1bHDoTh--Je",
        "colab": {
          "base_uri": "https://localhost:8080/"
        },
        "outputId": "5b1facf3-9457-4be5-f253-eac9d7aa10cb"
      },
      "source": [
        "!ls\n",
        "!pwd"
      ],
      "execution_count": null,
      "outputs": [
        {
          "output_type": "stream",
          "text": [
            "drive  sample_data\n",
            "/content\n"
          ],
          "name": "stdout"
        }
      ]
    },
    {
      "cell_type": "markdown",
      "metadata": {
        "id": "kdxaczQtMPQ8"
      },
      "source": [
        "# Get Data Set"
      ]
    },
    {
      "cell_type": "markdown",
      "metadata": {
        "id": "XWdzLOkh-0Pc"
      },
      "source": [
        ""
      ]
    },
    {
      "cell_type": "code",
      "metadata": {
        "id": "HJsZK0yKMU9R"
      },
      "source": [
        "def getDataset(): \n",
        "  directory = '/content/drive/My Drive/Bp_dataset_v4/MelSpectrogram_128/MelSpectrogramOriginal_Mel128'\n",
        "\n",
        "  train_set=tf.keras.preprocessing.image_dataset_from_directory(\n",
        "      directory,\n",
        "      labels=\"inferred\",\n",
        "      label_mode=\"categorical\",\n",
        "      subset=\"training\",\n",
        "      class_names=None,\n",
        "      shuffle=True,\n",
        "      seed = 100, #10 50 100 verecegiz \n",
        "      batch_size=32,\n",
        "      image_size=(128, 128),\n",
        "      validation_split = 0.2,\n",
        "      #interpolation=\"lanczos5\"\n",
        "  )\n",
        "\n",
        "  test_set = tf.keras.preprocessing.image_dataset_from_directory(\n",
        "      directory,\n",
        "      labels=\"inferred\",\n",
        "      label_mode=\"categorical\",\n",
        "      subset=\"validation\",\n",
        "      validation_split = 0.2,\n",
        "      class_names=None,\n",
        "      shuffle=True,\n",
        "      seed = 100, #10 50 100 verecegiz\n",
        "      batch_size=32,\n",
        "      image_size=(128, 128),\n",
        "      #interpolation=\"lanczos5\"\n",
        "  )\n",
        "  \n",
        "  #print(test_set)\n",
        "  #for data, labels in test_set:\n",
        "    #print(data.shape)  # (64, 200, 200, 3)\n",
        "  return train_set, test_set"
      ],
      "execution_count": null,
      "outputs": []
    },
    {
      "cell_type": "markdown",
      "metadata": {
        "id": "Y28tS0mFh-hD"
      },
      "source": [
        "# Training Custom CNN"
      ]
    },
    {
      "cell_type": "code",
      "metadata": {
        "id": "MgOBJiYhh-qF"
      },
      "source": [
        "def trainCustomCNN(train_set, test_set):\n",
        "  X_train  = train_set\n",
        "  opt  = tf.keras.optimizers.Adam(learning_rate=0.00001)\n",
        "\n",
        "  #input_shape=(128, 128),\n",
        "  model = keras.Sequential() \n",
        "  \n",
        "  model.add(keras.layers.Conv2D(128, input_shape=(128,128,3), kernel_size=80, strides=4, padding='same', kernel_initializer='glorot_uniform', kernel_regularizer=keras.regularizers.l2(l=0.0001)))\n",
        "  model.add(keras.layers.BatchNormalization())\n",
        "  model.add(keras.layers.Activation('relu'))\n",
        "  model.add(keras.layers.MaxPooling2D(pool_size=4, strides=None, padding='same'))\n",
        "\n",
        "  model.add(keras.layers.Conv2D(128, kernel_size=3, strides=1, padding='same', kernel_initializer='glorot_uniform', kernel_regularizer=keras.regularizers.l2(l=0.0001)))\n",
        "  model.add(keras.layers.BatchNormalization())\n",
        "  model.add(keras.layers.Activation('relu'))\n",
        "  model.add(keras.layers.MaxPooling2D(pool_size=4, strides=None, padding='same'))\n",
        "\n",
        "  model.add(keras.layers.Conv2D(256, kernel_size=3, strides=1, padding='same', kernel_initializer='glorot_uniform', kernel_regularizer=keras.regularizers.l2(l=0.0001)))\n",
        "  model.add(keras.layers.BatchNormalization())\n",
        "  model.add(keras.layers.Activation('relu'))\n",
        "  model.add(keras.layers.MaxPooling2D(pool_size=4, strides=None, padding='same'))\n",
        "\n",
        "  model.add(keras.layers.Conv2D(512, kernel_size=3, strides=1, padding='same', kernel_initializer='glorot_uniform', kernel_regularizer=keras.regularizers.l2(l=0.0001)))\n",
        "  model.add(keras.layers.BatchNormalization())\n",
        "  model.add(keras.layers.Activation('relu'))\n",
        "  model.add(keras.layers.MaxPooling2D(pool_size=4, strides=None, padding='same'))\n",
        "\n",
        "\n",
        "  model.add(keras.layers.Lambda(lambda x : keras.backend.mean(x, axis=1)))\n",
        "  model.add(keras.layers.Lambda(lambda x : keras.backend.mean(x, axis=1)))\n",
        "  model.add(keras.layers.Dense(8, activation='softmax'))\n",
        "\n",
        "  model.compile(optimizer = opt, loss='categorical_crossentropy',metrics = ['accuracy', keras.metrics.TruePositives(), keras.metrics.TrueNegatives(), keras.metrics.FalsePositives(), keras.metrics.FalseNegatives()]) \n",
        "  model.summary()  \n",
        "  model.fit(x = X_train, validation_data = test_set, epochs = 50)"
      ],
      "execution_count": null,
      "outputs": []
    },
    {
      "cell_type": "markdown",
      "metadata": {
        "id": "2yaZlZ-8cV6P"
      },
      "source": [
        "# Training Custom CNN 2"
      ]
    },
    {
      "cell_type": "code",
      "metadata": {
        "id": "NRcyaRiycWJI"
      },
      "source": [
        "def trainCustomCNN2(train_set, test_set):  #Ahmet şablon.\n",
        "  X_train  = train_set \n",
        "  model = keras.Sequential()\n",
        "  # LFLB1\n",
        "  model.add(keras.layers.Conv2D(filters=128, kernel_size=(3,3), strides=(1,1), padding='same', data_format='channels_last',input_shape=(128,128,3)))\n",
        "  model.add(keras.layers.BatchNormalization())\n",
        "  model.add(keras.layers.Activation('elu'))\n",
        "  model.add(keras.layers.MaxPooling2D(pool_size=(2,2), strides=(2,2)))\n",
        "  model.add(keras.layers.Dropout(0.5))\n",
        "\n",
        "  model.add(keras.layers.Conv2D(filters=128,kernel_size=(3,3), strides=(1,1), padding='same'))\n",
        "  model.add(keras.layers.BatchNormalization())\n",
        "  model.add(keras.layers.Activation('elu'))\n",
        "  model.add(keras.layers.MaxPooling2D(pool_size=(4,4), strides=(4,4)))\n",
        "  model.add(keras.layers.Dropout(0.25))\n",
        "\n",
        "  model.add(keras.layers.Conv2D(filters=64, kernel_size=(3,3), strides=(1,1), padding='same'))\n",
        "  model.add(keras.layers.BatchNormalization())\n",
        "  model.add(keras.layers.Activation('elu'))\n",
        "  model.add(keras.layers.MaxPooling2D(pool_size=(4,4), strides=(4,4)))\n",
        "  model.add(keras.layers.Dropout(0.25))\n",
        "\n",
        "  model.add(keras.layers.Conv2D(filters=64, kernel_size=(3,3), strides=(1,1), padding='same'))\n",
        "  model.add(keras.layers.BatchNormalization())\n",
        "  model.add(keras.layers.Activation('elu'))\n",
        "  model.add(keras.layers.MaxPooling2D(pool_size=(4,4), strides=(4,4)))\n",
        "  model.add(keras.layers.Dropout(0.25))\n",
        "\n",
        "  model.add(keras.layers.Flatten())\n",
        "  # FC\n",
        "  model.add(keras.layers.Dense(units=8, activation='softmax'))\n",
        "\n",
        "  # Model compilation\n",
        "  opt = tf.keras.optimizers.Adam(lr=0.001, beta_1=0.9,  beta_2=0.999, amsgrad=False)\n",
        "  model.compile(optimizer=opt, loss='categorical_crossentropy', metrics=['accuracy'])\n",
        "  model.summary()\n",
        "\n",
        "  model.fit(x = X_train, validation_data = test_set, epochs = 500)"
      ],
      "execution_count": null,
      "outputs": []
    },
    {
      "cell_type": "markdown",
      "metadata": {
        "id": "rF1YNyVLSt-B"
      },
      "source": [
        "# Training Custom CNN 3"
      ]
    },
    {
      "cell_type": "code",
      "metadata": {
        "id": "b79OzHrQSz9G"
      },
      "source": [
        "def trainCustomCNN3(train_set, test_set):\n",
        "    X_train  = train_set\n",
        "    opt  = tf.keras.optimizers.Adam(learning_rate=0.00005)\n",
        "\n",
        "    #input_shape=(128, 128),\n",
        "    model = keras.Sequential() \n",
        "\n",
        "    model.add(keras.layers.Conv2D(64, input_shape=(128, 128, 3), kernel_size=(3,3), strides=(1,1), padding='same', kernel_regularizer=keras.regularizers.l2(l=0.0005)))\n",
        "    model.add(keras.layers.BatchNormalization())\n",
        "    model.add(keras.layers.Activation('relu'))\n",
        "    model.add(keras.layers.MaxPooling2D(pool_size=4, strides=None, padding='same'))\n",
        "\n",
        "    model.add(keras.layers.Conv2D(64, kernel_size=(3,3), strides=1, padding='same', kernel_regularizer=keras.regularizers.l2(l=0.0005)))\n",
        "    model.add(keras.layers.BatchNormalization())\n",
        "    model.add(keras.layers.Activation('relu'))\n",
        "    model.add(keras.layers.MaxPooling2D(pool_size=2, strides=None, padding='same'))\n",
        "\n",
        "    model.add(keras.layers.Conv2D(128, kernel_size=(3,3), strides=1, padding='same', kernel_regularizer=keras.regularizers.l2(l=0.0005)))\n",
        "    model.add(keras.layers.BatchNormalization())\n",
        "    model.add(keras.layers.Activation('relu'))\n",
        "    model.add(keras.layers.MaxPooling2D(pool_size=2, strides=None, padding='same'))\n",
        "\n",
        "    model.add(keras.layers.Conv2D(128, kernel_size=(3,3), strides=1, padding='same', kernel_regularizer=keras.regularizers.l2(l=0.0005)))\n",
        "    model.add(keras.layers.BatchNormalization())\n",
        "    model.add(keras.layers.Activation('relu'))\n",
        "    model.add(keras.layers.MaxPooling2D(pool_size=2, strides=None, padding='same'))\n",
        "\n",
        "    model.add(keras.layers.Flatten())\n",
        "    model.add(keras.layers.Dense(512))\n",
        "    model.add(keras.layers.Activation(\"relu\"))\n",
        "    model.add(keras.layers.BatchNormalization())\n",
        "    model.add(keras.layers.Dropout(0.5))\n",
        "    model.add(keras.layers.Dense(8, activation='softmax'))\n",
        "\n",
        "    model.compile(optimizer = opt, loss='categorical_crossentropy', metrics = ['accuracy', keras.metrics.FalsePositives()]) \n",
        "    model.summary()\n",
        "    model.fit(x = X_train, validation_data = test_set, epochs = 100)\n",
        "    model.save('/content/drive/My Drive/Bp_Models/MelSpectrogram_Mel128_AugDerivativeOrder2_v3')\n",
        "\n",
        "    return model"
      ],
      "execution_count": null,
      "outputs": []
    },
    {
      "cell_type": "markdown",
      "metadata": {
        "id": "Hn_AeMTOajHb"
      },
      "source": [
        "# Training CNN With Transfer Learning"
      ]
    },
    {
      "cell_type": "code",
      "metadata": {
        "id": "5eBnUiO6a0Ck"
      },
      "source": [
        "def transferLearning():  \n",
        "  #Set pretrained Layers\n",
        "  #for layer in model.layers[:150]:\n",
        "  #    layer.trainable=False\n",
        "  #for layer in model.layers[150:]:\n",
        "  #    layer.trainable=True\n",
        "\n",
        "  #opt = tf.keras.optimizers.SGD(learning_rate=0.001)\n",
        "\n",
        "\n",
        "  opt  = tf.keras.optimizers.Adam(learning_rate=0.00001)\n",
        "  for j in range(3,4):\n",
        "    foldNo = 'fold' + str(j + 1)\n",
        "    test_set  = testPreprocess(foldNo)\n",
        "    train_set = trainPreprocess(foldNo)\n",
        "    print(\"\")\n",
        "    print(foldNo)\n",
        "    \n",
        "    epochNo = 100     \n",
        "    base_model = tf.keras.applications.ResNet101(\n",
        "    include_top=False, weights='imagenet', classes=3)\n",
        "    x=base_model.output\n",
        "    x=GlobalAveragePooling2D()(x)\n",
        "    preds=Dense(3,activation='softmax')(x) #final layer with softmax activation\n",
        "    model=Model(inputs=base_model.input,outputs=preds)\n",
        "\n",
        "\n",
        "    print(\"Epoch: \" + str(epochNo) + \"\\n\\n\")\n",
        "    model.compile(optimizer = opt, loss = 'categorical_crossentropy', metrics = ['accuracy', keras.metrics.Precision(), keras.metrics.Recall(), keras.metrics.TruePositives(), keras.metrics.TrueNegatives(), keras.metrics.FalsePositives(), keras.metrics.FalseNegatives()])\n",
        "    model.fit(x = train_set, validation_data = test_set, epochs = epochNo)\n",
        "    print(\"Egitim basariyla tamamlandi.\")"
      ],
      "execution_count": null,
      "outputs": []
    },
    {
      "cell_type": "markdown",
      "metadata": {
        "id": "ucG1hyReen_l"
      },
      "source": [
        "# Machine Learning"
      ]
    },
    {
      "cell_type": "code",
      "metadata": {
        "id": "eRnJEogOtVFq"
      },
      "source": [
        "def compareLists(l1, l2):\n",
        "  if len(l1) != len(l2):\n",
        "    print('Lengths are not equal!')\n",
        "\n",
        "  check = True  \n",
        "  for i in range(len(l1)):\n",
        "    if l1[i] != l2[i]:\n",
        "      check = False\n",
        "      break\n",
        "  return check\n",
        "\n",
        "def getCategoryValue(x):\n",
        "  yList =[[1. ,  0. ,  0. , 0. ,  0. ,  0. ,  0. , 0.],\n",
        "          [0. ,  1. ,  0. , 0. ,  0. ,  0. ,  0. , 0.],\n",
        "          [0. ,  0. ,  1. , 0. ,  0. ,  0. ,  0. , 0.],\n",
        "          [0. ,  0. ,  0. , 1. ,  0. ,  0. ,  0. , 0.],\n",
        "          [0. ,  0. ,  0. , 0. ,  1. ,  0. ,  0. , 0.],\n",
        "          [0. ,  0. ,  0. , 0. ,  0. ,  1. ,  0. , 0.],\n",
        "          [0. ,  0. ,  0. , 0. ,  0. ,  0. ,  1. , 0.],\n",
        "          [0. ,  0. ,  0. , 0. ,  0. ,  0. ,  0. , 1.]]\n",
        "\n",
        "\n",
        "  for i in range(len(yList)):\n",
        "    if compareLists(x, yList[i]):\n",
        "      return (i + 1)\n",
        "\n",
        "  print(\"Bir değer döndürülemedi, hata var!\")\n",
        "\n",
        "\n",
        "def getDatasetForMachineLearning(train_set, test_set, trainOutput = 1, testOutput = 1):\n",
        "  train_X = []\n",
        "  train_Y = []\n",
        "  test_X = []\n",
        "  test_Y = []\n",
        "\n",
        "\n",
        "\n",
        "  for element in list(train_set.as_numpy_iterator()):\n",
        "    for className in element[1]:\n",
        "      train_Y.append(getCategoryValue(className))\n",
        "    for features in element[0]:\n",
        "      train_X.append(features)  \n",
        "  for element in list(test_set.as_numpy_iterator()):\n",
        "    for className in element[1]:\n",
        "      test_Y.append(getCategoryValue(className))\n",
        "    for features in element[0]:\n",
        "      test_X.append(features)   \n",
        "\n",
        "\n",
        "\n",
        "  train_Y = np.array(train_Y)\n",
        "  test_Y = np.array(test_Y)\n",
        "  train_X = np.array(train_X)\n",
        "  test_X = np.array(test_X)\n",
        "\n",
        "  return train_X, train_Y, test_X, test_Y\n"
      ],
      "execution_count": null,
      "outputs": []
    },
    {
      "cell_type": "code",
      "metadata": {
        "id": "NSt6gE11eq5y"
      },
      "source": [
        "def classifyWithMachineLearning(train_set, test_set):\n",
        "  from keras.models import Model\n",
        "  from keras.models import load_model\n",
        "  from sklearn.metrics import confusion_matrix\n",
        "\n",
        "  from sklearn.neural_network import MLPClassifier\n",
        "  from sklearn.linear_model import LogisticRegression\n",
        "  from sklearn.ensemble import RandomForestClassifier\n",
        "  from sklearn.discriminant_analysis import LinearDiscriminantAnalysis\n",
        "  from sklearn.neighbors import KNeighborsClassifier\n",
        "  from sklearn.svm import SVC\n",
        "  from sklearn.naive_bayes import GaussianNB\n",
        "  from sklearn.ensemble import GradientBoostingClassifier\n",
        "  from sklearn.ensemble import AdaBoostClassifier\n",
        "  from sklearn.svm import LinearSVC\n",
        "\n",
        "\n",
        "  train_X, train_Y, test_X, test_Y = getDatasetForMachineLearning(train_set, test_set)\n",
        "\n",
        "\n",
        "\n",
        "  random_state = 100\n",
        "  cnnPath = '/content/drive/My Drive/Bp_Models/MelSpectrogramOriginal_Mel128_v3'\n",
        "\n",
        "  cnn = load_model(cnnPath)\n",
        "  outputLayer = cnn.layers[-5] #Dense layer 512.\n",
        "  print(outputLayer.output.name)\n",
        "\n",
        "  \n",
        "\n",
        "  intermediate_layer_model = Model(inputs=cnn.input,\n",
        "                                  outputs=outputLayer.output)\n",
        "  \n",
        "\n",
        "  print(\"\\nTrain Set:\")\n",
        "  train_output = intermediate_layer_model.predict(train_X)\n",
        "  #print(train_output)\n",
        "  print(\"Boyut1: \" + str(len(train_output)))\n",
        "  print(\"Boyut2: \" + str(len(train_output[0])))\n",
        "  train_output = np.array(train_output)\n",
        "\n",
        "\n",
        "\n",
        "  print(\"\\nTest Set:\")\n",
        "  test_output = intermediate_layer_model.predict(test_X)\n",
        "  #print(test_output)\n",
        "  print(\"Boyut1: \" + str(len(test_output)))\n",
        "  print(\"Boyut2: \" + str(len(test_output[0])))\n",
        "  test_output = np.array(test_output)\n",
        "  \n",
        "  models=[MLPClassifier(max_iter=200000, activation='tanh',solver='lbfgs', random_state=random_state),\n",
        "          LogisticRegression(dual=False,multi_class='auto',solver='lbfgs',random_state=random_state),\n",
        "          RandomForestClassifier(n_estimators=100,criterion='entropy'),\n",
        "          LinearDiscriminantAnalysis(solver='eigen', shrinkage='auto'),\n",
        "          KNeighborsClassifier(n_neighbors=10, weights='distance'),\n",
        "          SVC(kernel='poly',degree=2,C=100, gamma='auto'),\n",
        "          GaussianNB(),\n",
        "          GradientBoostingClassifier(),\n",
        "          AdaBoostClassifier(),\n",
        "          LinearSVC(penalty='l1',dual=False,multi_class='crammer_singer',max_iter=1000000),\n",
        "          SVC(kernel='rbf', random_state=0, gamma=.01, C=100000)]\n",
        "\n",
        "\n",
        "\n",
        "  for i in range(len(models)):\n",
        "    print(\"\\n\\nModel\" + str(i) + \":\" + str(models[i]))\n",
        "    model = models[i].fit(train_output, train_Y)  # Bad input shape: 1, 3, 5, 6, 7, 8, 9, 10 \n",
        "\n",
        "    testResult = model.score(test_output, test_Y)  \n",
        "    trainResult = model.score(train_output, train_Y) \n",
        "\n",
        "    yPredicted = model.predict(test_output)\n",
        "    confMatrix = confusion_matrix(test_Y, yPredicted)\n",
        "    print(confMatrix)\n",
        "\n",
        "    print(\"Test Set Accuracy: \" + str(testResult))\n",
        "    print(\"Train Set Accuracy: \" + str(trainResult))\n",
        "    \n"
      ],
      "execution_count": null,
      "outputs": []
    },
    {
      "cell_type": "markdown",
      "metadata": {
        "id": "lh8CJdKTk93U"
      },
      "source": [
        "# Main"
      ]
    },
    {
      "cell_type": "code",
      "metadata": {
        "id": "Q8mTO53zk-kU",
        "colab": {
          "base_uri": "https://localhost:8080/"
        },
        "outputId": "282d426c-997e-4916-d64b-22e560ec4038"
      },
      "source": [
        "train_set, test_set = getDataset()\n",
        "#model = trainCustomCNN3(train_set, test_set)\n",
        "# print((list(train_set.as_numpy_iterator())[35][1]))\n",
        "classifyWithMachineLearning(train_set, test_set)\n",
        "\n",
        "######################### SEEDLER AYNI VERILMELI #####################\n"
      ],
      "execution_count": null,
      "outputs": [
        {
          "output_type": "stream",
          "text": [
            "Found 1441 files belonging to 8 classes.\n",
            "Using 1153 files for training.\n",
            "Found 1441 files belonging to 8 classes.\n",
            "Using 288 files for validation.\n",
            "WARNING:tensorflow:SavedModel saved prior to TF 2.5 detected when loading Keras model. Please ensure that you are saving the model with model.save() or tf.keras.models.save_model(), *NOT* tf.saved_model.save(). To confirm, there should be a file named \"keras_metadata.pb\" in the SavedModel directory.\n",
            "dense/BiasAdd:0\n",
            "\n",
            "Train Set:\n",
            "Boyut1: 1153\n",
            "Boyut2: 512\n",
            "\n",
            "Test Set:\n",
            "Boyut1: 288\n",
            "Boyut2: 512\n",
            "\n",
            "\n",
            "Model0:MLPClassifier(activation='tanh', alpha=0.0001, batch_size='auto', beta_1=0.9,\n",
            "              beta_2=0.999, early_stopping=False, epsilon=1e-08,\n",
            "              hidden_layer_sizes=(100,), learning_rate='constant',\n",
            "              learning_rate_init=0.001, max_fun=15000, max_iter=200000,\n",
            "              momentum=0.9, n_iter_no_change=10, nesterovs_momentum=True,\n",
            "              power_t=0.5, random_state=100, shuffle=True, solver='lbfgs',\n",
            "              tol=0.0001, validation_fraction=0.1, verbose=False,\n",
            "              warm_start=False)\n",
            "[[13  3  2  4  0  1  0  0]\n",
            " [ 6 26  1  1  0  0  0  0]\n",
            " [ 7  0 14  2  3  2  2 11]\n",
            " [ 1  6  6 21  0  1  1  0]\n",
            " [ 0  0  1  3 32  2  6  4]\n",
            " [ 3  1  3  4  1 21  2  1]\n",
            " [ 1  1  1  3  0  1 29  0]\n",
            " [ 0  0  2  3  0  4  2 23]]\n",
            "Test Set Accuracy: 0.6215277777777778\n",
            "Train Set Accuracy: 1.0\n",
            "\n",
            "\n",
            "Model1:LogisticRegression(C=1.0, class_weight=None, dual=False, fit_intercept=True,\n",
            "                   intercept_scaling=1, l1_ratio=None, max_iter=100,\n",
            "                   multi_class='auto', n_jobs=None, penalty='l2',\n",
            "                   random_state=100, solver='lbfgs', tol=0.0001, verbose=0,\n",
            "                   warm_start=False)\n"
          ],
          "name": "stdout"
        },
        {
          "output_type": "stream",
          "text": [
            "/usr/local/lib/python3.7/dist-packages/sklearn/linear_model/_logistic.py:940: ConvergenceWarning: lbfgs failed to converge (status=1):\n",
            "STOP: TOTAL NO. of ITERATIONS REACHED LIMIT.\n",
            "\n",
            "Increase the number of iterations (max_iter) or scale the data as shown in:\n",
            "    https://scikit-learn.org/stable/modules/preprocessing.html\n",
            "Please also refer to the documentation for alternative solver options:\n",
            "    https://scikit-learn.org/stable/modules/linear_model.html#logistic-regression\n",
            "  extra_warning_msg=_LOGISTIC_SOLVER_CONVERGENCE_MSG)\n"
          ],
          "name": "stderr"
        },
        {
          "output_type": "stream",
          "text": [
            "[[16  3  0  1  0  0  2  1]\n",
            " [ 3 30  1  0  0  0  0  0]\n",
            " [ 1  1 21  2  1  0  4 11]\n",
            " [ 0  8  6 17  0  4  1  0]\n",
            " [ 0  1  1  1 41  0  2  2]\n",
            " [ 0  3  4  3  1 23  2  0]\n",
            " [ 1  1  1  2  1  2 28  0]\n",
            " [ 0  0  0  1  0  2  2 29]]\n",
            "Test Set Accuracy: 0.7118055555555556\n",
            "Train Set Accuracy: 1.0\n",
            "\n",
            "\n",
            "Model2:RandomForestClassifier(bootstrap=True, ccp_alpha=0.0, class_weight=None,\n",
            "                       criterion='entropy', max_depth=None, max_features='auto',\n",
            "                       max_leaf_nodes=None, max_samples=None,\n",
            "                       min_impurity_decrease=0.0, min_impurity_split=None,\n",
            "                       min_samples_leaf=1, min_samples_split=2,\n",
            "                       min_weight_fraction_leaf=0.0, n_estimators=100,\n",
            "                       n_jobs=None, oob_score=False, random_state=None,\n",
            "                       verbose=0, warm_start=False)\n",
            "[[ 7  8  2  4  0  0  1  1]\n",
            " [ 1 29  1  1  0  1  1  0]\n",
            " [ 0  1 18  3  1  0  5 13]\n",
            " [ 1  8  4 17  1  3  2  0]\n",
            " [ 0  1  0  2 38  0  3  4]\n",
            " [ 0  3  3  1  2 23  2  2]\n",
            " [ 0  1  2  1  2  0 29  1]\n",
            " [ 0  1  3  1  0  3  2 24]]\n",
            "Test Set Accuracy: 0.6423611111111112\n",
            "Train Set Accuracy: 1.0\n",
            "\n",
            "\n",
            "Model3:LinearDiscriminantAnalysis(n_components=None, priors=None, shrinkage='auto',\n",
            "                           solver='eigen', store_covariance=False, tol=0.0001)\n",
            "[[17  2  1  1  0  0  1  1]\n",
            " [ 3 28  1  1  0  0  1  0]\n",
            " [ 1  2 22  1  3  1  1 10]\n",
            " [ 1  8  6 17  0  4  0  0]\n",
            " [ 0  0  1  1 42  0  3  1]\n",
            " [ 0  3  6  4  1 21  1  0]\n",
            " [ 2  1  1  2  1  2 27  0]\n",
            " [ 0  0  1  2  0  2  1 28]]\n",
            "Test Set Accuracy: 0.7013888888888888\n",
            "Train Set Accuracy: 1.0\n",
            "\n",
            "\n",
            "Model4:KNeighborsClassifier(algorithm='auto', leaf_size=30, metric='minkowski',\n",
            "                     metric_params=None, n_jobs=None, n_neighbors=10, p=2,\n",
            "                     weights='distance')\n",
            "[[13  7  0  2  0  0  0  1]\n",
            " [ 2 30  1  1  0  0  0  0]\n",
            " [ 3  1 16  1  4  1  3 12]\n",
            " [ 1  8  3 18  2  1  2  1]\n",
            " [ 0  1  2  1 39  0  2  3]\n",
            " [ 0  3  3  3  2 24  1  0]\n",
            " [ 2  2  0  1  2  1 28  0]\n",
            " [ 2  0  0  1  0  2  1 28]]\n",
            "Test Set Accuracy: 0.6805555555555556\n",
            "Train Set Accuracy: 1.0\n",
            "\n",
            "\n",
            "Model5:SVC(C=100, break_ties=False, cache_size=200, class_weight=None, coef0=0.0,\n",
            "    decision_function_shape='ovr', degree=2, gamma='auto', kernel='poly',\n",
            "    max_iter=-1, probability=False, random_state=None, shrinking=True,\n",
            "    tol=0.001, verbose=False)\n",
            "[[17  3  1  0  0  0  1  1]\n",
            " [ 3 29  1  0  0  1  0  0]\n",
            " [ 1  0 21  2  2  1  4 10]\n",
            " [ 0  9  5 18  0  3  1  0]\n",
            " [ 0  1  1  1 41  0  2  2]\n",
            " [ 0  3  5  4  1 22  1  0]\n",
            " [ 1  1  1  2  1  2 28  0]\n",
            " [ 0  0  0  2  0  2  1 29]]\n",
            "Test Set Accuracy: 0.7118055555555556\n",
            "Train Set Accuracy: 1.0\n",
            "\n",
            "\n",
            "Model6:GaussianNB(priors=None, var_smoothing=1e-09)\n",
            "[[15  5  0  3  0  0  0  0]\n",
            " [ 4 29  1  0  0  0  0  0]\n",
            " [ 4  1 11  3  1  3  6 12]\n",
            " [ 3  8  2 18  1  1  3  0]\n",
            " [ 0  1  1  3 31  0  8  4]\n",
            " [ 0  2  1  3  2 20  4  4]\n",
            " [ 2  1  0  0  1  0 31  1]\n",
            " [ 1  0  1  3  4  1  1 23]]\n",
            "Test Set Accuracy: 0.6180555555555556\n",
            "Train Set Accuracy: 0.9731136166522116\n",
            "\n",
            "\n",
            "Model7:GradientBoostingClassifier(ccp_alpha=0.0, criterion='friedman_mse', init=None,\n",
            "                           learning_rate=0.1, loss='deviance', max_depth=3,\n",
            "                           max_features=None, max_leaf_nodes=None,\n",
            "                           min_impurity_decrease=0.0, min_impurity_split=None,\n",
            "                           min_samples_leaf=1, min_samples_split=2,\n",
            "                           min_weight_fraction_leaf=0.0, n_estimators=100,\n",
            "                           n_iter_no_change=None, presort='deprecated',\n",
            "                           random_state=None, subsample=1.0, tol=0.0001,\n",
            "                           validation_fraction=0.1, verbose=0,\n",
            "                           warm_start=False)\n",
            "[[ 3  5  0  8  1  0  2  4]\n",
            " [ 4 25  3  2  0  0  0  0]\n",
            " [ 2  1 14  5  4  1  2 12]\n",
            " [ 1  9  3 14  2  5  1  1]\n",
            " [ 1  0  2  1 35  0  4  5]\n",
            " [ 0  1  5  2  1 23  1  3]\n",
            " [ 0  1  2  1  3  3 24  2]\n",
            " [ 0  0  2  2  1  3  1 25]]\n",
            "Test Set Accuracy: 0.5659722222222222\n",
            "Train Set Accuracy: 1.0\n",
            "\n",
            "\n",
            "Model8:AdaBoostClassifier(algorithm='SAMME.R', base_estimator=None, learning_rate=1.0,\n",
            "                   n_estimators=50, random_state=None)\n",
            "[[ 5 11  2  4  0  0  0  1]\n",
            " [ 8 14  2  7  1  2  0  0]\n",
            " [ 1  1 14  5  6  6  3  5]\n",
            " [ 3  8  7  3  4  4  5  2]\n",
            " [ 0  2  2  1 27  2  4 10]\n",
            " [ 1  1  4  7  0 13  2  8]\n",
            " [ 0  2  2  7  8  1 16  0]\n",
            " [ 0  3  3  0  3  3  5 17]]\n",
            "Test Set Accuracy: 0.3784722222222222\n",
            "Train Set Accuracy: 0.6079791847354726\n",
            "\n",
            "\n",
            "Model9:LinearSVC(C=1.0, class_weight=None, dual=False, fit_intercept=True,\n",
            "          intercept_scaling=1, loss='squared_hinge', max_iter=1000000,\n",
            "          multi_class='crammer_singer', penalty='l1', random_state=None,\n",
            "          tol=0.0001, verbose=0)\n",
            "[[15  3  1  1  0  0  2  1]\n",
            " [ 3 29  1  0  0  1  0  0]\n",
            " [ 1  1 22  1  1  0  4 11]\n",
            " [ 1  7  6 17  0  4  1  0]\n",
            " [ 0  1  1  1 41  0  2  2]\n",
            " [ 0  2  4  4  1 22  3  0]\n",
            " [ 1  1  1  1  1  2 29  0]\n",
            " [ 0  0  1  0  1  2  1 29]]\n",
            "Test Set Accuracy: 0.7083333333333334\n",
            "Train Set Accuracy: 1.0\n",
            "\n",
            "\n",
            "Model10:SVC(C=100000, break_ties=False, cache_size=200, class_weight=None, coef0=0.0,\n",
            "    decision_function_shape='ovr', degree=3, gamma=0.01, kernel='rbf',\n",
            "    max_iter=-1, probability=False, random_state=0, shrinking=True, tol=0.001,\n",
            "    verbose=False)\n",
            "[[14  5  0  2  0  0  1  1]\n",
            " [ 2 31  1  0  0  0  0  0]\n",
            " [ 1  0 19  2  3  1  5 10]\n",
            " [ 0  7  6 18  0  2  3  0]\n",
            " [ 0  0  1  1 40  0  4  2]\n",
            " [ 0  3  2  1  2 26  2  0]\n",
            " [ 1  1  1  0  1  1 31  0]\n",
            " [ 1  0  1  2  0  2  2 26]]\n",
            "Test Set Accuracy: 0.7118055555555556\n",
            "Train Set Accuracy: 1.0\n"
          ],
          "name": "stdout"
        }
      ]
    },
    {
      "cell_type": "code",
      "metadata": {
        "id": "rQIaXEfryZIt"
      },
      "source": [
        "\n",
        "\n",
        "\n"
      ],
      "execution_count": null,
      "outputs": []
    },
    {
      "cell_type": "markdown",
      "metadata": {
        "id": "cQU9qxCya17n"
      },
      "source": [
        "# Making Single Prediction"
      ]
    },
    {
      "cell_type": "code",
      "metadata": {
        "id": "QKMqsLYFBH2A",
        "colab": {
          "base_uri": "https://localhost:8080/",
          "height": 371
        },
        "outputId": "04b945d9-0d42-4155-cb7f-4ee5de9fa55a"
      },
      "source": [
        "!nvidia-smi\n",
        "\n",
        "\"\"\"\n",
        "img_path = '/content/drive/My Drive/Hushem set1/fold1/train/02_Tapered/image_053.BMP'\n",
        "img = image.load_img(img_path, target_size=(224, 224))\n",
        "x = image.img_to_array(img)\n",
        "x = np.expand_dims(x, axis=0)\n",
        "x = preprocess_input(x)\n",
        "preds = model.predict(x)\n",
        "\"\"\"\n",
        "# decode the results into a list of tuples (class, description, probability)\n",
        "# (one such list for each sample in the batch)"
      ],
      "execution_count": null,
      "outputs": [
        {
          "output_type": "stream",
          "text": [
            "Tue Jun  1 20:00:16 2021       \n",
            "+-----------------------------------------------------------------------------+\n",
            "| NVIDIA-SMI 465.19.01    Driver Version: 460.32.03    CUDA Version: 11.2     |\n",
            "|-------------------------------+----------------------+----------------------+\n",
            "| GPU  Name        Persistence-M| Bus-Id        Disp.A | Volatile Uncorr. ECC |\n",
            "| Fan  Temp  Perf  Pwr:Usage/Cap|         Memory-Usage | GPU-Util  Compute M. |\n",
            "|                               |                      |               MIG M. |\n",
            "|===============================+======================+======================|\n",
            "|   0  Tesla T4            Off  | 00000000:00:04.0 Off |                    0 |\n",
            "| N/A   49C    P0    27W /  70W |   3408MiB / 15109MiB |      0%      Default |\n",
            "|                               |                      |                  N/A |\n",
            "+-------------------------------+----------------------+----------------------+\n",
            "                                                                               \n",
            "+-----------------------------------------------------------------------------+\n",
            "| Processes:                                                                  |\n",
            "|  GPU   GI   CI        PID   Type   Process name                  GPU Memory |\n",
            "|        ID   ID                                                   Usage      |\n",
            "|=============================================================================|\n",
            "+-----------------------------------------------------------------------------+\n"
          ],
          "name": "stdout"
        },
        {
          "output_type": "execute_result",
          "data": {
            "application/vnd.google.colaboratory.intrinsic+json": {
              "type": "string"
            },
            "text/plain": [
              "\"\\nimg_path = '/content/drive/My Drive/Hushem set1/fold1/train/02_Tapered/image_053.BMP'\\nimg = image.load_img(img_path, target_size=(224, 224))\\nx = image.img_to_array(img)\\nx = np.expand_dims(x, axis=0)\\nx = preprocess_input(x)\\npreds = model.predict(x)\\n\""
            ]
          },
          "metadata": {
            "tags": []
          },
          "execution_count": 62
        }
      ]
    },
    {
      "cell_type": "code",
      "metadata": {
        "id": "p6eM_YXzDJr4",
        "colab": {
          "base_uri": "https://localhost:8080/",
          "height": 69
        },
        "outputId": "5899b5ea-6093-4246-8148-12a8566eba88"
      },
      "source": [
        "\"\"\"\n",
        "import numpy as np\n",
        "from keras.preprocessing import image\n",
        "test_image = image.load_img('/content/drive/My Drive/Set1_5xAugmented/fold3/test/04_Amorphous/image_032.BMP', target_size = (64,64))\n",
        "test_image = image.img_to_array(test_image)\n",
        "test_image = np.expand_dims(test_image, axis = 0)\n",
        "result = model.predict(test_image)\n",
        "print(np.argmax(result))\n",
        "print(train_set.class_names)\n",
        "\"\"\""
      ],
      "execution_count": null,
      "outputs": [
        {
          "output_type": "execute_result",
          "data": {
            "application/vnd.google.colaboratory.intrinsic+json": {
              "type": "string"
            },
            "text/plain": [
              "\"\\nimport numpy as np\\nfrom keras.preprocessing import image\\ntest_image = image.load_img('/content/drive/My Drive/Set1_5xAugmented/fold3/test/04_Amorphous/image_032.BMP', target_size = (64,64))\\ntest_image = image.img_to_array(test_image)\\ntest_image = np.expand_dims(test_image, axis = 0)\\nresult = model.predict(test_image)\\nprint(np.argmax(result))\\nprint(train_set.class_names)\\n\""
            ]
          },
          "metadata": {
            "tags": []
          },
          "execution_count": 63
        }
      ]
    }
  ]
}