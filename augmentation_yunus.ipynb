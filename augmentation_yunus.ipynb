{
  "nbformat": 4,
  "nbformat_minor": 0,
  "metadata": {
    "colab": {
      "name": "augmentation.ipynb",
      "provenance": [],
      "collapsed_sections": [],
      "mount_file_id": "1Z8XHyuFsyDUDCHdcYz-HhNrV_4e5Q472",
      "authorship_tag": "ABX9TyMiBA2hXfvZvazQ5xT88RIs",
      "include_colab_link": true
    },
    "kernelspec": {
      "name": "python3",
      "display_name": "Python 3"
    },
    "language_info": {
      "name": "python"
    }
  },
  "cells": [
    {
      "cell_type": "markdown",
      "metadata": {
        "id": "view-in-github",
        "colab_type": "text"
      },
      "source": [
        "<a href=\"https://colab.research.google.com/github/YunusKaratepe/duygu-tanima/blob/main/augmentation_yunus.ipynb\" target=\"_parent\"><img src=\"https://colab.research.google.com/assets/colab-badge.svg\" alt=\"Open In Colab\"/></a>"
      ]
    },
    {
      "cell_type": "code",
      "metadata": {
        "colab": {
          "base_uri": "https://localhost:8080/"
        },
        "id": "oIRzthfgXNLJ",
        "outputId": "d29f59eb-99cf-4294-83c2-5747f9162593"
      },
      "source": [
        "!pip3 install SpecAugment"
      ],
      "execution_count": null,
      "outputs": [
        {
          "output_type": "stream",
          "text": [
            "Collecting SpecAugment\n",
            "  Downloading https://files.pythonhosted.org/packages/c7/32/c569482868868631df63fdd406854bd82be05362a7d8cb45b1970ea51374/SpecAugment-1.2.5-py3-none-any.whl\n",
            "Requirement already satisfied: matplotlib in /usr/local/lib/python3.7/dist-packages (from SpecAugment) (3.2.2)\n",
            "Requirement already satisfied: librosa in /usr/local/lib/python3.7/dist-packages (from SpecAugment) (0.8.0)\n",
            "Requirement already satisfied: numpy>=1.11 in /usr/local/lib/python3.7/dist-packages (from matplotlib->SpecAugment) (1.19.5)\n",
            "Requirement already satisfied: pyparsing!=2.0.4,!=2.1.2,!=2.1.6,>=2.0.1 in /usr/local/lib/python3.7/dist-packages (from matplotlib->SpecAugment) (2.4.7)\n",
            "Requirement already satisfied: python-dateutil>=2.1 in /usr/local/lib/python3.7/dist-packages (from matplotlib->SpecAugment) (2.8.1)\n",
            "Requirement already satisfied: kiwisolver>=1.0.1 in /usr/local/lib/python3.7/dist-packages (from matplotlib->SpecAugment) (1.3.1)\n",
            "Requirement already satisfied: cycler>=0.10 in /usr/local/lib/python3.7/dist-packages (from matplotlib->SpecAugment) (0.10.0)\n",
            "Requirement already satisfied: joblib>=0.14 in /usr/local/lib/python3.7/dist-packages (from librosa->SpecAugment) (1.0.1)\n",
            "Requirement already satisfied: scikit-learn!=0.19.0,>=0.14.0 in /usr/local/lib/python3.7/dist-packages (from librosa->SpecAugment) (0.22.2.post1)\n",
            "Requirement already satisfied: scipy>=1.0.0 in /usr/local/lib/python3.7/dist-packages (from librosa->SpecAugment) (1.4.1)\n",
            "Requirement already satisfied: resampy>=0.2.2 in /usr/local/lib/python3.7/dist-packages (from librosa->SpecAugment) (0.2.2)\n",
            "Requirement already satisfied: numba>=0.43.0 in /usr/local/lib/python3.7/dist-packages (from librosa->SpecAugment) (0.51.2)\n",
            "Requirement already satisfied: audioread>=2.0.0 in /usr/local/lib/python3.7/dist-packages (from librosa->SpecAugment) (2.1.9)\n",
            "Requirement already satisfied: decorator>=3.0.0 in /usr/local/lib/python3.7/dist-packages (from librosa->SpecAugment) (4.4.2)\n",
            "Requirement already satisfied: soundfile>=0.9.0 in /usr/local/lib/python3.7/dist-packages (from librosa->SpecAugment) (0.10.3.post1)\n",
            "Requirement already satisfied: pooch>=1.0 in /usr/local/lib/python3.7/dist-packages (from librosa->SpecAugment) (1.3.0)\n",
            "Requirement already satisfied: six>=1.5 in /usr/local/lib/python3.7/dist-packages (from python-dateutil>=2.1->matplotlib->SpecAugment) (1.15.0)\n",
            "Requirement already satisfied: llvmlite<0.35,>=0.34.0.dev0 in /usr/local/lib/python3.7/dist-packages (from numba>=0.43.0->librosa->SpecAugment) (0.34.0)\n",
            "Requirement already satisfied: setuptools in /usr/local/lib/python3.7/dist-packages (from numba>=0.43.0->librosa->SpecAugment) (57.0.0)\n",
            "Requirement already satisfied: cffi>=1.0 in /usr/local/lib/python3.7/dist-packages (from soundfile>=0.9.0->librosa->SpecAugment) (1.14.5)\n",
            "Requirement already satisfied: packaging in /usr/local/lib/python3.7/dist-packages (from pooch>=1.0->librosa->SpecAugment) (20.9)\n",
            "Requirement already satisfied: requests in /usr/local/lib/python3.7/dist-packages (from pooch>=1.0->librosa->SpecAugment) (2.23.0)\n",
            "Requirement already satisfied: appdirs in /usr/local/lib/python3.7/dist-packages (from pooch>=1.0->librosa->SpecAugment) (1.4.4)\n",
            "Requirement already satisfied: pycparser in /usr/local/lib/python3.7/dist-packages (from cffi>=1.0->soundfile>=0.9.0->librosa->SpecAugment) (2.20)\n",
            "Requirement already satisfied: chardet<4,>=3.0.2 in /usr/local/lib/python3.7/dist-packages (from requests->pooch>=1.0->librosa->SpecAugment) (3.0.4)\n",
            "Requirement already satisfied: urllib3!=1.25.0,!=1.25.1,<1.26,>=1.21.1 in /usr/local/lib/python3.7/dist-packages (from requests->pooch>=1.0->librosa->SpecAugment) (1.24.3)\n",
            "Requirement already satisfied: certifi>=2017.4.17 in /usr/local/lib/python3.7/dist-packages (from requests->pooch>=1.0->librosa->SpecAugment) (2020.12.5)\n",
            "Requirement already satisfied: idna<3,>=2.5 in /usr/local/lib/python3.7/dist-packages (from requests->pooch>=1.0->librosa->SpecAugment) (2.10)\n",
            "Installing collected packages: SpecAugment\n",
            "Successfully installed SpecAugment-1.2.5\n"
          ],
          "name": "stdout"
        }
      ]
    },
    {
      "cell_type": "code",
      "metadata": {
        "colab": {
          "base_uri": "https://localhost:8080/"
        },
        "id": "3J1QmXDhdZsC",
        "outputId": "3c096dba-dc5c-4a72-c993-8f2e0bf14717"
      },
      "source": [
        "%tensorflow_version 1.x"
      ],
      "execution_count": null,
      "outputs": [
        {
          "output_type": "stream",
          "text": [
            "TensorFlow 1.x selected.\n"
          ],
          "name": "stdout"
        }
      ]
    },
    {
      "cell_type": "code",
      "metadata": {
        "colab": {
          "base_uri": "https://localhost:8080/"
        },
        "id": "JVk7qELQdk5b",
        "outputId": "4add3737-d07a-4ef6-a1ca-d8fe048f7511"
      },
      "source": [
        "import tensorflow\n",
        "print(tensorflow.__version__)"
      ],
      "execution_count": null,
      "outputs": [
        {
          "output_type": "stream",
          "text": [
            "1.15.2\n"
          ],
          "name": "stdout"
        }
      ]
    },
    {
      "cell_type": "code",
      "metadata": {
        "id": "l_ILb8k0V8YK"
      },
      "source": [
        "import matplotlib\n",
        "matplotlib.use('TKAgg')\n",
        "import matplotlib.pyplot as plt\n",
        "import librosa\n",
        "import librosa.display\n",
        "from specAugment import spec_augment_tensorflow"
      ],
      "execution_count": null,
      "outputs": []
    },
    {
      "cell_type": "code",
      "metadata": {
        "id": "uBG0YT-NfHXT"
      },
      "source": [
        "import os\n",
        "import librosa\n",
        "import numpy as np"
      ],
      "execution_count": null,
      "outputs": []
    },
    {
      "cell_type": "code",
      "metadata": {
        "id": "N5zgju_JYGij",
        "colab": {
          "base_uri": "https://localhost:8080/"
        },
        "outputId": "31290db9-fc14-4c5f-8d53-bf5f89090d2b"
      },
      "source": [
        "data_list = os.listdir('/content/drive/MyDrive/colab/final_project/data')\n",
        "data_list.sort()\n",
        "\n",
        "data_list.pop(0)\n",
        "data_list[:10]"
      ],
      "execution_count": null,
      "outputs": [
        {
          "output_type": "execute_result",
          "data": {
            "text/plain": [
              "['01_01_00.wav',\n",
              " '01_01_01.wav',\n",
              " '01_01_02.wav',\n",
              " '01_01_03.wav',\n",
              " '01_02_04.wav',\n",
              " '01_02_05.wav',\n",
              " '01_02_06.wav',\n",
              " '01_02_07.wav',\n",
              " '01_02_08.wav',\n",
              " '01_02_09.wav']"
            ]
          },
          "metadata": {
            "tags": []
          },
          "execution_count": 7
        }
      ]
    },
    {
      "cell_type": "code",
      "metadata": {
        "id": "3Rre-BdwYs7H",
        "colab": {
          "base_uri": "https://localhost:8080/"
        },
        "outputId": "f75f9fad-8efe-405f-ef72-0a5402f1c257"
      },
      "source": [
        "%cd /content/drive/MyDrive/colab/final_project"
      ],
      "execution_count": null,
      "outputs": [
        {
          "output_type": "stream",
          "text": [
            "/content/drive/MyDrive/colab/final_project\n"
          ],
          "name": "stdout"
        }
      ]
    },
    {
      "cell_type": "code",
      "metadata": {
        "id": "4KYDZlSfYsLs"
      },
      "source": [
        "def plot_spectrogram(Y, sr, hop_length, y_axis=\"linear\", filename=\"log\"):\n",
        "    plt.figure(figsize=(25, 10))\n",
        "    plt.axis('off')\n",
        "    librosa.display.specshow(Y,\n",
        "                             sr=sr,\n",
        "                             hop_length=hop_length,\n",
        "                             y_axis=y_axis)\n",
        "    if filename != \"none\":\n",
        "        plt.savefig(\"/content/drive/MyDrive/colab/final_project/spectrograms/augmented/\" + y_axis + \"/\" + filename + \".png\", \n",
        "                    bbox_inches='tight', pad_inches=0)\n",
        "        plt.close()"
      ],
      "execution_count": null,
      "outputs": []
    },
    {
      "cell_type": "code",
      "metadata": {
        "id": "hgz4PSLYYIvr",
        "colab": {
          "base_uri": "https://localhost:8080/"
        },
        "outputId": "32015733-e715-46b4-f114-b4b082fd0a97"
      },
      "source": [
        "FRAME_SIZE = 2048\n",
        "HOP_LENGTH = 512\n",
        "\n",
        "# [data_list[x] for x in range(1057, len(data_list))] kaldığın yerden devam kodu\n",
        "\n",
        "voice, sr = librosa.load(os.path.join(\"data\", data_list[0]))\n",
        "for file_path in [data_list[x] for x in range(0, 4)]: # **********************************\n",
        "    voice, _ = librosa.load(os.path.join(\"data\", file_path))\n",
        "    after_stft = librosa.stft(voice, n_fft=FRAME_SIZE, hop_length=HOP_LENGTH)\n",
        "    abs_stft_result = np.abs(after_stft) ** 2\n",
        "    log_stft_result = librosa.power_to_db(abs_stft_result)\n",
        "\n",
        "    warped_masked_spectrogram = spec_augment_tensorflow.spec_augment(mel_spectrogram=log_stft_result, time_warping_para=8, frequency_masking_para=128,\n",
        "                                                                     time_masking_para=20, frequency_mask_num=1, time_mask_num=1)\n",
        "    plot_spectrogram(warped_masked_spectrogram, sr, HOP_LENGTH, y_axis=\"log\", filename=file_path.split('.')[0])"
      ],
      "execution_count": null,
      "outputs": [
        {
          "output_type": "stream",
          "text": [
            "WARNING:tensorflow:From /usr/local/lib/python3.7/dist-packages/specAugment/spec_augment_tensorflow.py:78: The name tf.placeholder is deprecated. Please use tf.compat.v1.placeholder instead.\n",
            "\n",
            "WARNING:tensorflow:From /usr/local/lib/python3.7/dist-packages/specAugment/spec_augment_tensorflow.py:110: The name tf.Session is deprecated. Please use tf.compat.v1.Session instead.\n",
            "\n"
          ],
          "name": "stdout"
        }
      ]
    }
  ]
}