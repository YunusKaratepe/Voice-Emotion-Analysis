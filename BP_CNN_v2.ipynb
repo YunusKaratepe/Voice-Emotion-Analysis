{
  "nbformat": 4,
  "nbformat_minor": 0,
  "metadata": {
    "colab": {
      "name": "BP_CNN.ipynb",
      "provenance": [],
      "collapsed_sections": [],
      "include_colab_link": true
    },
    "kernelspec": {
      "name": "python3",
      "display_name": "Python 3"
    },
    "accelerator": "GPU"
  },
  "cells": [
    {
      "cell_type": "markdown",
      "metadata": {
        "id": "view-in-github",
        "colab_type": "text"
      },
      "source": [
        "<a href=\"https://colab.research.google.com/github/YunusKaratepe/duygu-tanima/blob/main/BP_CNN_v2.ipynb\" target=\"_parent\"><img src=\"https://colab.research.google.com/assets/colab-badge.svg\" alt=\"Open In Colab\"/></a>"
      ]
    },
    {
      "cell_type": "markdown",
      "metadata": {
        "id": "i5cKf10uLv9_"
      },
      "source": [
        "# Importing Libraries"
      ]
    },
    {
      "cell_type": "code",
      "metadata": {
        "id": "u05jItQNLz-2"
      },
      "source": [
        "import keras\n",
        "import tensorflow as tf\n",
        "import numpy as np\n",
        "from keras.preprocessing.image import ImageDataGenerator\n",
        "from tensorflow.keras.preprocessing import image\n",
        "from keras.layers import Dense,GlobalAveragePooling2D\n",
        "from keras.models import Model\n",
        "from tensorflow.keras import activations"
      ],
      "execution_count": null,
      "outputs": []
    },
    {
      "cell_type": "markdown",
      "metadata": {
        "id": "Zztw-R73-265"
      },
      "source": [
        "# Load Data From Google Drive"
      ]
    },
    {
      "cell_type": "code",
      "metadata": {
        "id": "sPRiKxrv-8BZ",
        "colab": {
          "base_uri": "https://localhost:8080/"
        },
        "outputId": "3190a7a5-1f65-44f8-b61d-3f7ec173c203"
      },
      "source": [
        "from google.colab import drive\n",
        "drive.mount(\"/content/drive\")"
      ],
      "execution_count": null,
      "outputs": [
        {
          "output_type": "stream",
          "text": [
            "Mounted at /content/drive\n"
          ],
          "name": "stdout"
        }
      ]
    },
    {
      "cell_type": "code",
      "metadata": {
        "id": "w1bHDoTh--Je",
        "colab": {
          "base_uri": "https://localhost:8080/"
        },
        "outputId": "1553e96f-43e5-4e41-f7bd-ad1b195fb57e"
      },
      "source": [
        "!ls\n",
        "!pwd"
      ],
      "execution_count": null,
      "outputs": [
        {
          "output_type": "stream",
          "text": [
            "drive  sample_data\n",
            "/content\n"
          ],
          "name": "stdout"
        }
      ]
    },
    {
      "cell_type": "markdown",
      "metadata": {
        "id": "kdxaczQtMPQ8"
      },
      "source": [
        "# Get Data Set"
      ]
    },
    {
      "cell_type": "markdown",
      "metadata": {
        "id": "XWdzLOkh-0Pc"
      },
      "source": [
        ""
      ]
    },
    {
      "cell_type": "code",
      "metadata": {
        "id": "HJsZK0yKMU9R"
      },
      "source": [
        "def getDataset(): \n",
        "  directory = '/content/drive/My Drive/Bp_dataset_v4/MelSpectrogram_128/MelSpectrogram_Mel128_AugNormal'\n",
        "\n",
        "\n",
        "  train_set=tf.keras.preprocessing.image_dataset_from_directory(\n",
        "      directory,\n",
        "      labels=\"inferred\",\n",
        "      label_mode=\"categorical\",\n",
        "      subset=\"training\",\n",
        "      class_names=None,\n",
        "      shuffle=True,\n",
        "      seed = 10, #10 50 100 verecegiz \n",
        "      batch_size=32,\n",
        "      image_size=(128, 128),\n",
        "      validation_split = 0.2,\n",
        "      #interpolation=\"lanczos5\"\n",
        "  )\n",
        "\n",
        "  test_set = tf.keras.preprocessing.image_dataset_from_directory(\n",
        "      directory,\n",
        "      labels=\"inferred\",\n",
        "      label_mode=\"categorical\",\n",
        "      subset=\"validation\",\n",
        "      validation_split = 0.2,\n",
        "      class_names=None,\n",
        "      shuffle=True,\n",
        "      seed = 10, #10 50 100 verecegiz\n",
        "      batch_size=32,\n",
        "      image_size=(128, 128),\n",
        "      #interpolation=\"lanczos5\"\n",
        "  )\n",
        "  #print(test_set)\n",
        "  #for data, labels in test_set:\n",
        "    #print(data.shape)  # (64, 200, 200, 3)\n",
        "  return train_set, test_set"
      ],
      "execution_count": null,
      "outputs": []
    },
    {
      "cell_type": "markdown",
      "metadata": {
        "id": "Y28tS0mFh-hD"
      },
      "source": [
        "# Training Custom CNN"
      ]
    },
    {
      "cell_type": "code",
      "metadata": {
        "id": "MgOBJiYhh-qF"
      },
      "source": [
        "def trainCustomCNN(train_set, test_set):\n",
        "  X_train  = train_set\n",
        "  opt  = tf.keras.optimizers.Adam(learning_rate=0.00001)\n",
        "\n",
        "  #input_shape=(128, 128),\n",
        "  model = keras.Sequential() \n",
        "  \n",
        "  model.add(keras.layers.Conv2D(128, input_shape=(128,128,3), kernel_size=80, strides=4, padding='same', kernel_initializer='glorot_uniform', kernel_regularizer=keras.regularizers.l2(l=0.0001)))\n",
        "  model.add(keras.layers.BatchNormalization())\n",
        "  model.add(keras.layers.Activation('relu'))\n",
        "  model.add(keras.layers.MaxPooling2D(pool_size=4, strides=None, padding='same'))\n",
        "\n",
        "  model.add(keras.layers.Conv2D(128, kernel_size=3, strides=1, padding='same', kernel_initializer='glorot_uniform', kernel_regularizer=keras.regularizers.l2(l=0.0001)))\n",
        "  model.add(keras.layers.BatchNormalization())\n",
        "  model.add(keras.layers.Activation('relu'))\n",
        "  model.add(keras.layers.MaxPooling2D(pool_size=4, strides=None, padding='same'))\n",
        "\n",
        "  model.add(keras.layers.Conv2D(256, kernel_size=3, strides=1, padding='same', kernel_initializer='glorot_uniform', kernel_regularizer=keras.regularizers.l2(l=0.0001)))\n",
        "  model.add(keras.layers.BatchNormalization())\n",
        "  model.add(keras.layers.Activation('relu'))\n",
        "  model.add(keras.layers.MaxPooling2D(pool_size=4, strides=None, padding='same'))\n",
        "\n",
        "  model.add(keras.layers.Conv2D(512, kernel_size=3, strides=1, padding='same', kernel_initializer='glorot_uniform', kernel_regularizer=keras.regularizers.l2(l=0.0001)))\n",
        "  model.add(keras.layers.BatchNormalization())\n",
        "  model.add(keras.layers.Activation('relu'))\n",
        "  model.add(keras.layers.MaxPooling2D(pool_size=4, strides=None, padding='same'))\n",
        "\n",
        "\n",
        "  model.add(keras.layers.Lambda(lambda x : keras.backend.mean(x, axis=1)))\n",
        "  model.add(keras.layers.Lambda(lambda x : keras.backend.mean(x, axis=1)))\n",
        "  model.add(keras.layers.Dense(8, activation='softmax'))\n",
        "\n",
        "  model.compile(optimizer = opt, loss='categorical_crossentropy',metrics = ['accuracy', keras.metrics.TruePositives(), keras.metrics.TrueNegatives(), keras.metrics.FalsePositives(), keras.metrics.FalseNegatives()]) \n",
        "  model.summary()  \n",
        "  model.fit(x = X_train, validation_data = test_set, epochs = 50)"
      ],
      "execution_count": null,
      "outputs": []
    },
    {
      "cell_type": "markdown",
      "metadata": {
        "id": "Hn_AeMTOajHb"
      },
      "source": [
        "# Training CNN With Transfer Learning"
      ]
    },
    {
      "cell_type": "code",
      "metadata": {
        "id": "5eBnUiO6a0Ck"
      },
      "source": [
        "def transferLearning():  \n",
        "  #Set pretrained Layers\n",
        "  #for layer in model.layers[:150]:\n",
        "  #    layer.trainable=False\n",
        "  #for layer in model.layers[150:]:\n",
        "  #    layer.trainable=True\n",
        "\n",
        "  #opt = tf.keras.optimizers.SGD(learning_rate=0.001)\n",
        "\n",
        "\n",
        "  opt  = tf.keras.optimizers.Adam(learning_rate=0.00001)\n",
        "  for j in range(3,4):\n",
        "    foldNo = 'fold' + str(j + 1)\n",
        "    test_set  = testPreprocess(foldNo)\n",
        "    train_set = trainPreprocess(foldNo)\n",
        "    print(\"\")\n",
        "    print(foldNo)\n",
        "    \n",
        "    epochNo = 100     \n",
        "    base_model = tf.keras.applications.ResNet101(\n",
        "    include_top=False, weights='imagenet', classes=3)\n",
        "    x=base_model.output\n",
        "    x=GlobalAveragePooling2D()(x)\n",
        "    preds=Dense(3,activation='softmax')(x) #final layer with softmax activation\n",
        "    model=Model(inputs=base_model.input,outputs=preds)\n",
        "\n",
        "\n",
        "    print(\"Epoch: \" + str(epochNo) + \"\\n\\n\")\n",
        "    model.compile(optimizer = opt, loss = 'categorical_crossentropy', metrics = ['accuracy', keras.metrics.Precision(), keras.metrics.Recall(), keras.metrics.TruePositives(), keras.metrics.TrueNegatives(), keras.metrics.FalsePositives(), keras.metrics.FalseNegatives()])\n",
        "    model.fit(x = train_set, validation_data = test_set, epochs = epochNo)\n",
        "    print(\"Egitim basariyla tamamlandi.\")"
      ],
      "execution_count": null,
      "outputs": []
    },
    {
      "cell_type": "markdown",
      "metadata": {
        "id": "lh8CJdKTk93U"
      },
      "source": [
        "# Main"
      ]
    },
    {
      "cell_type": "code",
      "metadata": {
        "id": "Q8mTO53zk-kU",
        "colab": {
          "base_uri": "https://localhost:8080/"
        },
        "outputId": "efd4a716-a698-443d-da58-cd84412b1db4"
      },
      "source": [
        "train_set, test_set = getDataset()\n",
        "trainCustomCNN(train_set, test_set)"
      ],
      "execution_count": null,
      "outputs": [
        {
          "output_type": "stream",
          "text": [
            "Found 2880 files belonging to 8 classes.\n",
            "Using 2304 files for training.\n",
            "Found 2880 files belonging to 8 classes.\n",
            "Using 576 files for validation.\n",
            "Model: \"sequential\"\n",
            "_________________________________________________________________\n",
            "Layer (type)                 Output Shape              Param #   \n",
            "=================================================================\n",
            "conv2d (Conv2D)              (None, 32, 32, 128)       2457728   \n",
            "_________________________________________________________________\n",
            "batch_normalization (BatchNo (None, 32, 32, 128)       512       \n",
            "_________________________________________________________________\n",
            "activation (Activation)      (None, 32, 32, 128)       0         \n",
            "_________________________________________________________________\n",
            "max_pooling2d (MaxPooling2D) (None, 8, 8, 128)         0         \n",
            "_________________________________________________________________\n",
            "conv2d_1 (Conv2D)            (None, 8, 8, 128)         147584    \n",
            "_________________________________________________________________\n",
            "batch_normalization_1 (Batch (None, 8, 8, 128)         512       \n",
            "_________________________________________________________________\n",
            "activation_1 (Activation)    (None, 8, 8, 128)         0         \n",
            "_________________________________________________________________\n",
            "max_pooling2d_1 (MaxPooling2 (None, 2, 2, 128)         0         \n",
            "_________________________________________________________________\n",
            "conv2d_2 (Conv2D)            (None, 2, 2, 256)         295168    \n",
            "_________________________________________________________________\n",
            "batch_normalization_2 (Batch (None, 2, 2, 256)         1024      \n",
            "_________________________________________________________________\n",
            "activation_2 (Activation)    (None, 2, 2, 256)         0         \n",
            "_________________________________________________________________\n",
            "max_pooling2d_2 (MaxPooling2 (None, 1, 1, 256)         0         \n",
            "_________________________________________________________________\n",
            "conv2d_3 (Conv2D)            (None, 1, 1, 512)         1180160   \n",
            "_________________________________________________________________\n",
            "batch_normalization_3 (Batch (None, 1, 1, 512)         2048      \n",
            "_________________________________________________________________\n",
            "activation_3 (Activation)    (None, 1, 1, 512)         0         \n",
            "_________________________________________________________________\n",
            "max_pooling2d_3 (MaxPooling2 (None, 1, 1, 512)         0         \n",
            "_________________________________________________________________\n",
            "lambda (Lambda)              (None, 1, 512)            0         \n",
            "_________________________________________________________________\n",
            "lambda_1 (Lambda)            (None, 512)               0         \n",
            "_________________________________________________________________\n",
            "dense (Dense)                (None, 8)                 4104      \n",
            "=================================================================\n",
            "Total params: 4,088,840\n",
            "Trainable params: 4,086,792\n",
            "Non-trainable params: 2,048\n",
            "_________________________________________________________________\n",
            "Epoch 1/50\n",
            "72/72 [==============================] - 843s 10s/step - loss: 2.1343 - accuracy: 0.2395 - true_positives: 30.5342 - true_negatives: 8235.0137 - false_positives: 49.9178 - false_negatives: 1153.0274 - val_loss: 2.1959 - val_accuracy: 0.1372 - val_true_positives: 0.0000e+00 - val_true_negatives: 4032.0000 - val_false_positives: 0.0000e+00 - val_false_negatives: 576.0000\n",
            "Epoch 2/50\n",
            "72/72 [==============================] - 57s 774ms/step - loss: 1.7630 - accuracy: 0.3837 - true_positives: 95.5753 - true_negatives: 8242.5342 - false_positives: 42.3973 - false_negatives: 1087.9863 - val_loss: 2.0790 - val_accuracy: 0.2101 - val_true_positives: 0.0000e+00 - val_true_negatives: 4032.0000 - val_false_positives: 0.0000e+00 - val_false_negatives: 576.0000\n",
            "Epoch 3/50\n",
            "72/72 [==============================] - 57s 770ms/step - loss: 1.5495 - accuracy: 0.4844 - true_positives: 170.7671 - true_negatives: 8230.6027 - false_positives: 54.3288 - false_negatives: 1012.7945 - val_loss: 1.9978 - val_accuracy: 0.2917 - val_true_positives: 0.0000e+00 - val_true_negatives: 4032.0000 - val_false_positives: 0.0000e+00 - val_false_negatives: 576.0000\n",
            "Epoch 4/50\n",
            "72/72 [==============================] - 57s 771ms/step - loss: 1.3893 - accuracy: 0.5397 - true_positives: 243.8767 - true_negatives: 8235.2740 - false_positives: 49.6575 - false_negatives: 939.6849 - val_loss: 1.9309 - val_accuracy: 0.2969 - val_true_positives: 1.0000 - val_true_negatives: 4032.0000 - val_false_positives: 0.0000e+00 - val_false_negatives: 575.0000\n",
            "Epoch 5/50\n",
            "72/72 [==============================] - 56s 769ms/step - loss: 1.2130 - accuracy: 0.6256 - true_positives: 349.8219 - true_negatives: 8236.3151 - false_positives: 48.6164 - false_negatives: 833.7397 - val_loss: 1.7271 - val_accuracy: 0.3646 - val_true_positives: 46.0000 - val_true_negatives: 4017.0000 - val_false_positives: 15.0000 - val_false_negatives: 530.0000\n",
            "Epoch 6/50\n",
            "72/72 [==============================] - 56s 770ms/step - loss: 1.0599 - accuracy: 0.6904 - true_positives: 460.7260 - true_negatives: 8242.1507 - false_positives: 42.7808 - false_negatives: 722.8356 - val_loss: 1.6509 - val_accuracy: 0.4167 - val_true_positives: 80.0000 - val_true_negatives: 4002.0000 - val_false_positives: 30.0000 - val_false_negatives: 496.0000\n",
            "Epoch 7/50\n",
            "72/72 [==============================] - 56s 768ms/step - loss: 0.9576 - accuracy: 0.7625 - true_positives: 520.4110 - true_negatives: 8246.7260 - false_positives: 38.2055 - false_negatives: 663.1507 - val_loss: 1.7129 - val_accuracy: 0.3872 - val_true_positives: 71.0000 - val_true_negatives: 3994.0000 - val_false_positives: 38.0000 - val_false_negatives: 505.0000\n",
            "Epoch 8/50\n",
            "72/72 [==============================] - 56s 769ms/step - loss: 0.7992 - accuracy: 0.8277 - true_positives: 657.6575 - true_negatives: 8256.5890 - false_positives: 28.3425 - false_negatives: 525.9041 - val_loss: 1.6890 - val_accuracy: 0.4045 - val_true_positives: 102.0000 - val_true_negatives: 3969.0000 - val_false_positives: 63.0000 - val_false_negatives: 474.0000\n",
            "Epoch 9/50\n",
            "72/72 [==============================] - 56s 767ms/step - loss: 0.6873 - accuracy: 0.8739 - true_positives: 770.4932 - true_negatives: 8255.9041 - false_positives: 29.0274 - false_negatives: 413.0685 - val_loss: 1.6328 - val_accuracy: 0.4201 - val_true_positives: 99.0000 - val_true_negatives: 3948.0000 - val_false_positives: 84.0000 - val_false_negatives: 477.0000\n",
            "Epoch 10/50\n",
            "72/72 [==============================] - 56s 769ms/step - loss: 0.5714 - accuracy: 0.9137 - true_positives: 878.1096 - true_negatives: 8264.0137 - false_positives: 20.9178 - false_negatives: 305.4521 - val_loss: 1.5534 - val_accuracy: 0.4896 - val_true_positives: 153.0000 - val_true_negatives: 3928.0000 - val_false_positives: 104.0000 - val_false_negatives: 423.0000\n",
            "Epoch 11/50\n",
            "72/72 [==============================] - 57s 771ms/step - loss: 0.4569 - accuracy: 0.9481 - true_positives: 980.4247 - true_negatives: 8270.4932 - false_positives: 14.4384 - false_negatives: 203.1370 - val_loss: 1.5480 - val_accuracy: 0.4722 - val_true_positives: 176.0000 - val_true_negatives: 3917.0000 - val_false_positives: 115.0000 - val_false_negatives: 400.0000\n",
            "Epoch 12/50\n",
            "72/72 [==============================] - 56s 768ms/step - loss: 0.3678 - accuracy: 0.9674 - true_positives: 1067.3425 - true_negatives: 8274.9041 - false_positives: 10.0274 - false_negatives: 116.2192 - val_loss: 1.5700 - val_accuracy: 0.4514 - val_true_positives: 191.0000 - val_true_negatives: 3883.0000 - val_false_positives: 149.0000 - val_false_negatives: 385.0000\n",
            "Epoch 13/50\n",
            "72/72 [==============================] - 56s 769ms/step - loss: 0.2972 - accuracy: 0.9812 - true_positives: 1115.5205 - true_negatives: 8276.8904 - false_positives: 8.0411 - false_negatives: 68.0411 - val_loss: 1.6681 - val_accuracy: 0.4340 - val_true_positives: 175.0000 - val_true_negatives: 3876.0000 - val_false_positives: 156.0000 - val_false_negatives: 401.0000\n",
            "Epoch 14/50\n",
            "72/72 [==============================] - 56s 769ms/step - loss: 0.2335 - accuracy: 0.9909 - true_positives: 1149.1918 - true_negatives: 8279.2740 - false_positives: 5.6575 - false_negatives: 34.3699 - val_loss: 1.4324 - val_accuracy: 0.5052 - val_true_positives: 211.0000 - val_true_negatives: 3895.0000 - val_false_positives: 137.0000 - val_false_negatives: 365.0000\n",
            "Epoch 15/50\n",
            "72/72 [==============================] - 56s 769ms/step - loss: 0.1809 - accuracy: 0.9978 - true_positives: 1173.7808 - true_negatives: 8282.9452 - false_positives: 1.9863 - false_negatives: 9.7808 - val_loss: 1.3796 - val_accuracy: 0.5417 - val_true_positives: 230.0000 - val_true_negatives: 3905.0000 - val_false_positives: 127.0000 - val_false_negatives: 346.0000\n",
            "Epoch 16/50\n",
            "72/72 [==============================] - 56s 770ms/step - loss: 0.1717 - accuracy: 0.9943 - true_positives: 1169.1644 - true_negatives: 8280.5205 - false_positives: 4.4110 - false_negatives: 14.3973 - val_loss: 1.4567 - val_accuracy: 0.4844 - val_true_positives: 220.0000 - val_true_negatives: 3869.0000 - val_false_positives: 163.0000 - val_false_negatives: 356.0000\n",
            "Epoch 17/50\n",
            "72/72 [==============================] - 56s 768ms/step - loss: 0.1390 - accuracy: 0.9985 - true_positives: 1178.5068 - true_negatives: 8282.4932 - false_positives: 2.4384 - false_negatives: 5.0548 - val_loss: 1.3409 - val_accuracy: 0.5451 - val_true_positives: 244.0000 - val_true_negatives: 3899.0000 - val_false_positives: 133.0000 - val_false_negatives: 332.0000\n",
            "Epoch 18/50\n",
            "72/72 [==============================] - 56s 768ms/step - loss: 0.1214 - accuracy: 0.9992 - true_positives: 1181.2877 - true_negatives: 8284.9315 - false_positives: 0.0000e+00 - false_negatives: 2.2740 - val_loss: 1.3304 - val_accuracy: 0.5590 - val_true_positives: 264.0000 - val_true_negatives: 3897.0000 - val_false_positives: 135.0000 - val_false_negatives: 312.0000\n",
            "Epoch 19/50\n",
            "72/72 [==============================] - 56s 768ms/step - loss: 0.0962 - accuracy: 0.9995 - true_positives: 1182.8356 - true_negatives: 8284.2055 - false_positives: 0.7260 - false_negatives: 0.7260 - val_loss: 1.3392 - val_accuracy: 0.5712 - val_true_positives: 256.0000 - val_true_negatives: 3897.0000 - val_false_positives: 135.0000 - val_false_negatives: 320.0000\n",
            "Epoch 20/50\n",
            "72/72 [==============================] - 56s 768ms/step - loss: 0.0862 - accuracy: 1.0000 - true_positives: 1183.5616 - true_negatives: 8284.9315 - false_positives: 0.0000e+00 - false_negatives: 0.0000e+00 - val_loss: 1.2906 - val_accuracy: 0.5538 - val_true_positives: 258.0000 - val_true_negatives: 3893.0000 - val_false_positives: 139.0000 - val_false_negatives: 318.0000\n",
            "Epoch 21/50\n",
            "72/72 [==============================] - 56s 768ms/step - loss: 0.0817 - accuracy: 0.9992 - true_positives: 1182.1918 - true_negatives: 8283.9589 - false_positives: 0.9726 - false_negatives: 1.3699 - val_loss: 1.3400 - val_accuracy: 0.5747 - val_true_positives: 257.0000 - val_true_negatives: 3883.0000 - val_false_positives: 149.0000 - val_false_negatives: 319.0000\n",
            "Epoch 22/50\n",
            "72/72 [==============================] - 56s 767ms/step - loss: 0.0886 - accuracy: 1.0000 - true_positives: 1183.5616 - true_negatives: 8284.9315 - false_positives: 0.0000e+00 - false_negatives: 0.0000e+00 - val_loss: 1.2647 - val_accuracy: 0.5903 - val_true_positives: 268.0000 - val_true_negatives: 3902.0000 - val_false_positives: 130.0000 - val_false_negatives: 308.0000\n",
            "Epoch 23/50\n",
            "72/72 [==============================] - 56s 769ms/step - loss: 0.0703 - accuracy: 1.0000 - true_positives: 1183.5616 - true_negatives: 8284.9315 - false_positives: 0.0000e+00 - false_negatives: 0.0000e+00 - val_loss: 1.2637 - val_accuracy: 0.5851 - val_true_positives: 269.0000 - val_true_negatives: 3886.0000 - val_false_positives: 146.0000 - val_false_negatives: 307.0000\n",
            "Epoch 24/50\n",
            "72/72 [==============================] - 57s 772ms/step - loss: 0.0633 - accuracy: 1.0000 - true_positives: 1183.5616 - true_negatives: 8284.9315 - false_positives: 0.0000e+00 - false_negatives: 0.0000e+00 - val_loss: 1.3181 - val_accuracy: 0.5590 - val_true_positives: 266.0000 - val_true_negatives: 3886.0000 - val_false_positives: 146.0000 - val_false_negatives: 310.0000\n",
            "Epoch 25/50\n",
            "72/72 [==============================] - 56s 770ms/step - loss: 0.0743 - accuracy: 0.9984 - true_positives: 1181.2603 - true_negatives: 8284.3973 - false_positives: 0.5342 - false_negatives: 2.3014 - val_loss: 1.3846 - val_accuracy: 0.5347 - val_true_positives: 263.0000 - val_true_negatives: 3883.0000 - val_false_positives: 149.0000 - val_false_negatives: 313.0000\n",
            "Epoch 26/50\n",
            "72/72 [==============================] - 57s 770ms/step - loss: 0.0608 - accuracy: 1.0000 - true_positives: 1183.5616 - true_negatives: 8284.9315 - false_positives: 0.0000e+00 - false_negatives: 0.0000e+00 - val_loss: 1.2507 - val_accuracy: 0.5885 - val_true_positives: 281.0000 - val_true_negatives: 3898.0000 - val_false_positives: 134.0000 - val_false_negatives: 295.0000\n",
            "Epoch 27/50\n",
            "72/72 [==============================] - 57s 771ms/step - loss: 0.0541 - accuracy: 1.0000 - true_positives: 1183.5616 - true_negatives: 8284.9315 - false_positives: 0.0000e+00 - false_negatives: 0.0000e+00 - val_loss: 1.2300 - val_accuracy: 0.6059 - val_true_positives: 302.0000 - val_true_negatives: 3898.0000 - val_false_positives: 134.0000 - val_false_negatives: 274.0000\n",
            "Epoch 28/50\n",
            "72/72 [==============================] - 57s 771ms/step - loss: 0.0543 - accuracy: 0.9999 - true_positives: 1183.3014 - true_negatives: 8284.9315 - false_positives: 0.0000e+00 - false_negatives: 0.2603 - val_loss: 1.3483 - val_accuracy: 0.5851 - val_true_positives: 280.0000 - val_true_negatives: 3885.0000 - val_false_positives: 147.0000 - val_false_negatives: 296.0000\n",
            "Epoch 29/50\n",
            "72/72 [==============================] - 56s 770ms/step - loss: 0.0548 - accuracy: 1.0000 - true_positives: 1183.5616 - true_negatives: 8284.9315 - false_positives: 0.0000e+00 - false_negatives: 0.0000e+00 - val_loss: 1.2322 - val_accuracy: 0.6042 - val_true_positives: 301.0000 - val_true_negatives: 3899.0000 - val_false_positives: 133.0000 - val_false_negatives: 275.0000\n",
            "Epoch 30/50\n",
            "72/72 [==============================] - 56s 769ms/step - loss: 0.0494 - accuracy: 1.0000 - true_positives: 1183.5616 - true_negatives: 8284.9315 - false_positives: 0.0000e+00 - false_negatives: 0.0000e+00 - val_loss: 1.2503 - val_accuracy: 0.6007 - val_true_positives: 293.0000 - val_true_negatives: 3887.0000 - val_false_positives: 145.0000 - val_false_negatives: 283.0000\n",
            "Epoch 31/50\n",
            "72/72 [==============================] - 57s 770ms/step - loss: 0.0483 - accuracy: 1.0000 - true_positives: 1183.5616 - true_negatives: 8284.9315 - false_positives: 0.0000e+00 - false_negatives: 0.0000e+00 - val_loss: 1.2347 - val_accuracy: 0.6146 - val_true_positives: 295.0000 - val_true_negatives: 3890.0000 - val_false_positives: 142.0000 - val_false_negatives: 281.0000\n",
            "Epoch 32/50\n",
            "72/72 [==============================] - 57s 772ms/step - loss: 0.0490 - accuracy: 1.0000 - true_positives: 1183.5616 - true_negatives: 8284.9315 - false_positives: 0.0000e+00 - false_negatives: 0.0000e+00 - val_loss: 1.2404 - val_accuracy: 0.6042 - val_true_positives: 301.0000 - val_true_negatives: 3892.0000 - val_false_positives: 140.0000 - val_false_negatives: 275.0000\n",
            "Epoch 33/50\n",
            "72/72 [==============================] - 56s 769ms/step - loss: 0.0468 - accuracy: 1.0000 - true_positives: 1183.5616 - true_negatives: 8284.9315 - false_positives: 0.0000e+00 - false_negatives: 0.0000e+00 - val_loss: 1.2229 - val_accuracy: 0.6042 - val_true_positives: 303.0000 - val_true_negatives: 3890.0000 - val_false_positives: 142.0000 - val_false_negatives: 273.0000\n",
            "Epoch 34/50\n",
            "72/72 [==============================] - 56s 769ms/step - loss: 0.0447 - accuracy: 1.0000 - true_positives: 1183.5616 - true_negatives: 8284.9315 - false_positives: 0.0000e+00 - false_negatives: 0.0000e+00 - val_loss: 1.2415 - val_accuracy: 0.5955 - val_true_positives: 299.0000 - val_true_negatives: 3883.0000 - val_false_positives: 149.0000 - val_false_negatives: 277.0000\n",
            "Epoch 35/50\n",
            "72/72 [==============================] - 56s 770ms/step - loss: 0.0436 - accuracy: 1.0000 - true_positives: 1183.5616 - true_negatives: 8284.9315 - false_positives: 0.0000e+00 - false_negatives: 0.0000e+00 - val_loss: 1.2073 - val_accuracy: 0.6198 - val_true_positives: 309.0000 - val_true_negatives: 3894.0000 - val_false_positives: 138.0000 - val_false_negatives: 267.0000\n",
            "Epoch 36/50\n",
            "72/72 [==============================] - 56s 769ms/step - loss: 0.0433 - accuracy: 1.0000 - true_positives: 1183.5616 - true_negatives: 8284.9315 - false_positives: 0.0000e+00 - false_negatives: 0.0000e+00 - val_loss: 1.2280 - val_accuracy: 0.6146 - val_true_positives: 308.0000 - val_true_negatives: 3897.0000 - val_false_positives: 135.0000 - val_false_negatives: 268.0000\n",
            "Epoch 37/50\n",
            "72/72 [==============================] - 57s 771ms/step - loss: 0.0428 - accuracy: 1.0000 - true_positives: 1183.5616 - true_negatives: 8284.9315 - false_positives: 0.0000e+00 - false_negatives: 0.0000e+00 - val_loss: 1.2236 - val_accuracy: 0.6163 - val_true_positives: 303.0000 - val_true_negatives: 3892.0000 - val_false_positives: 140.0000 - val_false_negatives: 273.0000\n",
            "Epoch 38/50\n",
            "72/72 [==============================] - 56s 769ms/step - loss: 0.0417 - accuracy: 1.0000 - true_positives: 1183.5616 - true_negatives: 8284.9315 - false_positives: 0.0000e+00 - false_negatives: 0.0000e+00 - val_loss: 1.2348 - val_accuracy: 0.6163 - val_true_positives: 309.0000 - val_true_negatives: 3890.0000 - val_false_positives: 142.0000 - val_false_negatives: 267.0000\n",
            "Epoch 39/50\n",
            "72/72 [==============================] - 57s 770ms/step - loss: 0.0418 - accuracy: 1.0000 - true_positives: 1183.5616 - true_negatives: 8284.9315 - false_positives: 0.0000e+00 - false_negatives: 0.0000e+00 - val_loss: 1.2488 - val_accuracy: 0.6024 - val_true_positives: 301.0000 - val_true_negatives: 3888.0000 - val_false_positives: 144.0000 - val_false_negatives: 275.0000\n",
            "Epoch 40/50\n",
            "72/72 [==============================] - 57s 772ms/step - loss: 0.0408 - accuracy: 1.0000 - true_positives: 1183.5616 - true_negatives: 8284.9315 - false_positives: 0.0000e+00 - false_negatives: 0.0000e+00 - val_loss: 1.2277 - val_accuracy: 0.6163 - val_true_positives: 312.0000 - val_true_negatives: 3891.0000 - val_false_positives: 141.0000 - val_false_negatives: 264.0000\n",
            "Epoch 41/50\n",
            "72/72 [==============================] - 57s 773ms/step - loss: 0.0408 - accuracy: 1.0000 - true_positives: 1183.5616 - true_negatives: 8284.9315 - false_positives: 0.0000e+00 - false_negatives: 0.0000e+00 - val_loss: 1.5094 - val_accuracy: 0.5243 - val_true_positives: 273.0000 - val_true_negatives: 3853.0000 - val_false_positives: 179.0000 - val_false_negatives: 303.0000\n",
            "Epoch 42/50\n",
            "72/72 [==============================] - 57s 772ms/step - loss: 0.0637 - accuracy: 0.9948 - true_positives: 1167.4247 - true_negatives: 8278.6712 - false_positives: 6.2603 - false_negatives: 16.1370 - val_loss: 6.8765 - val_accuracy: 0.1406 - val_true_positives: 80.0000 - val_true_negatives: 3552.0000 - val_false_positives: 480.0000 - val_false_negatives: 496.0000\n",
            "Epoch 43/50\n",
            "72/72 [==============================] - 57s 773ms/step - loss: 0.9162 - accuracy: 0.7202 - true_positives: 616.6164 - true_negatives: 8145.1781 - false_positives: 139.7534 - false_negatives: 566.9452 - val_loss: 5.0350 - val_accuracy: 0.1510 - val_true_positives: 83.0000 - val_true_negatives: 3568.0000 - val_false_positives: 464.0000 - val_false_negatives: 493.0000\n",
            "Epoch 44/50\n",
            "72/72 [==============================] - 56s 770ms/step - loss: 0.6540 - accuracy: 0.8115 - true_positives: 844.6575 - true_negatives: 8181.0000 - false_positives: 103.9315 - false_negatives: 338.9041 - val_loss: 3.2722 - val_accuracy: 0.3090 - val_true_positives: 165.0000 - val_true_negatives: 3724.0000 - val_false_positives: 308.0000 - val_false_negatives: 411.0000\n",
            "Epoch 45/50\n",
            "72/72 [==============================] - 56s 769ms/step - loss: 0.3343 - accuracy: 0.9353 - true_positives: 1054.0685 - true_negatives: 8254.1096 - false_positives: 30.8219 - false_negatives: 129.4932 - val_loss: 1.8820 - val_accuracy: 0.4601 - val_true_positives: 225.0000 - val_true_negatives: 3812.0000 - val_false_positives: 220.0000 - val_false_negatives: 351.0000\n",
            "Epoch 46/50\n",
            "72/72 [==============================] - 56s 770ms/step - loss: 0.2134 - accuracy: 0.9616 - true_positives: 1116.9178 - true_negatives: 8258.4247 - false_positives: 26.5068 - false_negatives: 66.6438 - val_loss: 1.3611 - val_accuracy: 0.5608 - val_true_positives: 271.0000 - val_true_negatives: 3878.0000 - val_false_positives: 154.0000 - val_false_negatives: 305.0000\n",
            "Epoch 47/50\n",
            "72/72 [==============================] - 56s 769ms/step - loss: 0.1034 - accuracy: 0.9980 - true_positives: 1177.3014 - true_negatives: 8282.6438 - false_positives: 2.2877 - false_negatives: 6.2603 - val_loss: 1.3262 - val_accuracy: 0.5938 - val_true_positives: 297.0000 - val_true_negatives: 3881.0000 - val_false_positives: 151.0000 - val_false_negatives: 279.0000\n",
            "Epoch 48/50\n",
            "72/72 [==============================] - 56s 770ms/step - loss: 0.0730 - accuracy: 0.9986 - true_positives: 1182.5890 - true_negatives: 8283.9589 - false_positives: 0.9726 - false_negatives: 0.9726 - val_loss: 1.2273 - val_accuracy: 0.6042 - val_true_positives: 309.0000 - val_true_negatives: 3889.0000 - val_false_positives: 143.0000 - val_false_negatives: 267.0000\n",
            "Epoch 49/50\n",
            "72/72 [==============================] - 57s 770ms/step - loss: 0.0596 - accuracy: 0.9992 - true_positives: 1181.9589 - true_negatives: 8283.7534 - false_positives: 1.1781 - false_negatives: 1.6027 - val_loss: 1.4561 - val_accuracy: 0.5434 - val_true_positives: 285.0000 - val_true_negatives: 3833.0000 - val_false_positives: 199.0000 - val_false_negatives: 291.0000\n",
            "Epoch 50/50\n",
            "72/72 [==============================] - 56s 769ms/step - loss: 0.0694 - accuracy: 0.9976 - true_positives: 1179.0822 - true_negatives: 8282.1644 - false_positives: 2.7671 - false_negatives: 4.4795 - val_loss: 1.5893 - val_accuracy: 0.5000 - val_true_positives: 247.0000 - val_true_negatives: 3828.0000 - val_false_positives: 204.0000 - val_false_negatives: 329.0000\n"
          ],
          "name": "stdout"
        }
      ]
    },
    {
      "cell_type": "markdown",
      "metadata": {
        "id": "cQU9qxCya17n"
      },
      "source": [
        "# Making Single Prediction"
      ]
    },
    {
      "cell_type": "code",
      "metadata": {
        "id": "QKMqsLYFBH2A",
        "colab": {
          "base_uri": "https://localhost:8080/"
        },
        "outputId": "1b7d822f-22ea-4358-8483-c3d4fa5932da"
      },
      "source": [
        "\"\"\"\n",
        "img_path = '/content/drive/My Drive/Hushem set1/fold1/train/02_Tapered/image_053.BMP'\n",
        "img = image.load_img(img_path, target_size=(224, 224))\n",
        "x = image.img_to_array(img)\n",
        "x = np.expand_dims(x, axis=0)\n",
        "x = preprocess_input(x)\n",
        "preds = model.predict(x)\n",
        "\"\"\"\n",
        "# decode the results into a list of tuples (class, description, probability)\n",
        "# (one such list for each sample in the batch)"
      ],
      "execution_count": null,
      "outputs": [
        {
          "output_type": "execute_result",
          "data": {
            "application/vnd.google.colaboratory.intrinsic+json": {
              "type": "string"
            },
            "text/plain": [
              "\"\\nimg_path = '/content/drive/My Drive/Hushem set1/fold1/train/02_Tapered/image_053.BMP'\\nimg = image.load_img(img_path, target_size=(224, 224))\\nx = image.img_to_array(img)\\nx = np.expand_dims(x, axis=0)\\nx = preprocess_input(x)\\npreds = model.predict(x)\\n\""
            ]
          },
          "metadata": {
            "tags": []
          },
          "execution_count": 8
        }
      ]
    },
    {
      "cell_type": "code",
      "metadata": {
        "id": "p6eM_YXzDJr4",
        "colab": {
          "base_uri": "https://localhost:8080/",
          "height": 69
        },
        "outputId": "0415f4c3-d86e-4ae6-c2ff-7b7641345112"
      },
      "source": [
        "\"\"\"\n",
        "import numpy as np\n",
        "from keras.preprocessing import image\n",
        "test_image = image.load_img('/content/drive/My Drive/Set1_5xAugmented/fold3/test/04_Amorphous/image_032.BMP', target_size = (64,64))\n",
        "test_image = image.img_to_array(test_image)\n",
        "test_image = np.expand_dims(test_image, axis = 0)\n",
        "result = model.predict(test_image)\n",
        "print(np.argmax(result))\n",
        "print(train_set.class_names)\n",
        "\"\"\""
      ],
      "execution_count": null,
      "outputs": [
        {
          "output_type": "execute_result",
          "data": {
            "application/vnd.google.colaboratory.intrinsic+json": {
              "type": "string"
            },
            "text/plain": [
              "\"\\nimport numpy as np\\nfrom keras.preprocessing import image\\ntest_image = image.load_img('/content/drive/My Drive/Set1_5xAugmented/fold3/test/04_Amorphous/image_032.BMP', target_size = (64,64))\\ntest_image = image.img_to_array(test_image)\\ntest_image = np.expand_dims(test_image, axis = 0)\\nresult = model.predict(test_image)\\nprint(np.argmax(result))\\nprint(train_set.class_names)\\n\""
            ]
          },
          "metadata": {
            "tags": []
          },
          "execution_count": 9
        }
      ]
    }
  ]
}